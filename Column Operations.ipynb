{
 "cells": [
  {
   "cell_type": "code",
   "execution_count": 34,
   "metadata": {
    "collapsed": true
   },
   "outputs": [],
   "source": [
    "import pandas as pd\n",
    "import numpy as np"
   ]
  },
  {
   "cell_type": "code",
   "execution_count": 119,
   "metadata": {
    "collapsed": false
   },
   "outputs": [
    {
     "data": {
      "text/html": [
       "<div>\n",
       "<table border=\"1\" class=\"dataframe\">\n",
       "  <thead>\n",
       "    <tr style=\"text-align: right;\">\n",
       "      <th></th>\n",
       "      <th>Name</th>\n",
       "    </tr>\n",
       "  </thead>\n",
       "  <tbody>\n",
       "    <tr>\n",
       "      <th>0</th>\n",
       "      <td>Lauren</td>\n",
       "    </tr>\n",
       "    <tr>\n",
       "      <th>1</th>\n",
       "      <td>Glory</td>\n",
       "    </tr>\n",
       "    <tr>\n",
       "      <th>2</th>\n",
       "      <td>Mark</td>\n",
       "    </tr>\n",
       "  </tbody>\n",
       "</table>\n",
       "</div>"
      ],
      "text/plain": [
       "     Name\n",
       "0  Lauren\n",
       "1   Glory\n",
       "2    Mark"
      ]
     },
     "execution_count": 119,
     "metadata": {},
     "output_type": "execute_result"
    }
   ],
   "source": [
    "# Create empty dataframe\n",
    "df = pd.DataFrame()\n",
    "\n",
    "# Create a column\n",
    "df['Name'] = ['Lauren', 'Glory', 'Mark']\n",
    "\n",
    "# View dataframe\n",
    "df"
   ]
  },
  {
   "cell_type": "code",
   "execution_count": 120,
   "metadata": {
    "collapsed": false
   },
   "outputs": [],
   "source": [
    "# Assign a new column to df called 'age' with a list of ages\n",
    "df = df.assign(Age = [21, 20, 19])"
   ]
  },
  {
   "cell_type": "code",
   "execution_count": 121,
   "metadata": {
    "collapsed": true
   },
   "outputs": [],
   "source": [
    "# Assign a new column to df called 'Major' in a different way\n",
    "df['Major'] = ['Finance', 'Economics', 'MIS']"
   ]
  },
  {
   "cell_type": "code",
   "execution_count": 122,
   "metadata": {
    "collapsed": false
   },
   "outputs": [
    {
     "data": {
      "text/html": [
       "<div>\n",
       "<table border=\"1\" class=\"dataframe\">\n",
       "  <thead>\n",
       "    <tr style=\"text-align: right;\">\n",
       "      <th></th>\n",
       "      <th>Name</th>\n",
       "      <th>Age</th>\n",
       "      <th>Major</th>\n",
       "    </tr>\n",
       "  </thead>\n",
       "  <tbody>\n",
       "    <tr>\n",
       "      <th>0</th>\n",
       "      <td>Lauren</td>\n",
       "      <td>21</td>\n",
       "      <td>Finance</td>\n",
       "    </tr>\n",
       "    <tr>\n",
       "      <th>1</th>\n",
       "      <td>Glory</td>\n",
       "      <td>20</td>\n",
       "      <td>Economics</td>\n",
       "    </tr>\n",
       "    <tr>\n",
       "      <th>2</th>\n",
       "      <td>Mark</td>\n",
       "      <td>19</td>\n",
       "      <td>MIS</td>\n",
       "    </tr>\n",
       "  </tbody>\n",
       "</table>\n",
       "</div>"
      ],
      "text/plain": [
       "     Name  Age      Major\n",
       "0  Lauren   21    Finance\n",
       "1   Glory   20  Economics\n",
       "2    Mark   19        MIS"
      ]
     },
     "execution_count": 122,
     "metadata": {},
     "output_type": "execute_result"
    }
   ],
   "source": [
    "df"
   ]
  },
  {
   "cell_type": "code",
   "execution_count": 123,
   "metadata": {
    "collapsed": true
   },
   "outputs": [],
   "source": [
    "df['Gender'] = ['Female','Female','Male']"
   ]
  },
  {
   "cell_type": "code",
   "execution_count": 124,
   "metadata": {
    "collapsed": false
   },
   "outputs": [
    {
     "data": {
      "text/html": [
       "<div>\n",
       "<table border=\"1\" class=\"dataframe\">\n",
       "  <thead>\n",
       "    <tr style=\"text-align: right;\">\n",
       "      <th></th>\n",
       "      <th>Name</th>\n",
       "      <th>Age</th>\n",
       "      <th>Major</th>\n",
       "      <th>Gender</th>\n",
       "    </tr>\n",
       "  </thead>\n",
       "  <tbody>\n",
       "    <tr>\n",
       "      <th>0</th>\n",
       "      <td>Lauren</td>\n",
       "      <td>21</td>\n",
       "      <td>Finance</td>\n",
       "      <td>Female</td>\n",
       "    </tr>\n",
       "    <tr>\n",
       "      <th>1</th>\n",
       "      <td>Glory</td>\n",
       "      <td>20</td>\n",
       "      <td>Economics</td>\n",
       "      <td>Female</td>\n",
       "    </tr>\n",
       "    <tr>\n",
       "      <th>2</th>\n",
       "      <td>Mark</td>\n",
       "      <td>19</td>\n",
       "      <td>MIS</td>\n",
       "      <td>Male</td>\n",
       "    </tr>\n",
       "  </tbody>\n",
       "</table>\n",
       "</div>"
      ],
      "text/plain": [
       "     Name  Age      Major  Gender\n",
       "0  Lauren   21    Finance  Female\n",
       "1   Glory   20  Economics  Female\n",
       "2    Mark   19        MIS    Male"
      ]
     },
     "execution_count": 124,
     "metadata": {},
     "output_type": "execute_result"
    }
   ],
   "source": [
    "df"
   ]
  },
  {
   "cell_type": "markdown",
   "metadata": {},
   "source": [
    "### Lets go ahead and add a couple of rows to the dataframe. Lets keep it simple!!"
   ]
  },
  {
   "cell_type": "code",
   "execution_count": 126,
   "metadata": {
    "collapsed": false
   },
   "outputs": [],
   "source": [
    "df.loc[3] = [\"Katey\",22,\"MIS\",\"Female\"]  # adding a row\n",
    "df.loc[4] = [\"Tapan\",22,\"Economics\",\"Male\"]  # adding a row"
   ]
  },
  {
   "cell_type": "code",
   "execution_count": 127,
   "metadata": {
    "collapsed": true
   },
   "outputs": [],
   "source": [
    "# Check out this link -> https://stackoverflow.com/questions/24284342/insert-a-row-to-pandas-dataframe\n",
    "# for better options"
   ]
  },
  {
   "cell_type": "code",
   "execution_count": 128,
   "metadata": {
    "collapsed": false
   },
   "outputs": [
    {
     "data": {
      "text/html": [
       "<div>\n",
       "<table border=\"1\" class=\"dataframe\">\n",
       "  <thead>\n",
       "    <tr style=\"text-align: right;\">\n",
       "      <th></th>\n",
       "      <th>Name</th>\n",
       "      <th>Age</th>\n",
       "      <th>Major</th>\n",
       "      <th>Gender</th>\n",
       "    </tr>\n",
       "  </thead>\n",
       "  <tbody>\n",
       "    <tr>\n",
       "      <th>0</th>\n",
       "      <td>Lauren</td>\n",
       "      <td>21</td>\n",
       "      <td>Finance</td>\n",
       "      <td>Female</td>\n",
       "    </tr>\n",
       "    <tr>\n",
       "      <th>1</th>\n",
       "      <td>Glory</td>\n",
       "      <td>20</td>\n",
       "      <td>Economics</td>\n",
       "      <td>Female</td>\n",
       "    </tr>\n",
       "    <tr>\n",
       "      <th>2</th>\n",
       "      <td>Mark</td>\n",
       "      <td>19</td>\n",
       "      <td>MIS</td>\n",
       "      <td>Male</td>\n",
       "    </tr>\n",
       "    <tr>\n",
       "      <th>3</th>\n",
       "      <td>Katey</td>\n",
       "      <td>22</td>\n",
       "      <td>MIS</td>\n",
       "      <td>Female</td>\n",
       "    </tr>\n",
       "    <tr>\n",
       "      <th>4</th>\n",
       "      <td>Tapan</td>\n",
       "      <td>22</td>\n",
       "      <td>Economics</td>\n",
       "      <td>Male</td>\n",
       "    </tr>\n",
       "  </tbody>\n",
       "</table>\n",
       "</div>"
      ],
      "text/plain": [
       "     Name  Age      Major  Gender\n",
       "0  Lauren   21    Finance  Female\n",
       "1   Glory   20  Economics  Female\n",
       "2    Mark   19        MIS    Male\n",
       "3   Katey   22        MIS  Female\n",
       "4   Tapan   22  Economics    Male"
      ]
     },
     "execution_count": 128,
     "metadata": {},
     "output_type": "execute_result"
    }
   ],
   "source": [
    "df"
   ]
  },
  {
   "cell_type": "markdown",
   "metadata": {
    "collapsed": true
   },
   "source": [
    "### Creating Column based conditions on String Values"
   ]
  },
  {
   "cell_type": "code",
   "execution_count": 129,
   "metadata": {
    "collapsed": false
   },
   "outputs": [],
   "source": [
    "df['Major_Type'] = np.where((df['Major'].isin(['MIS','IT'])),\"IT\",\"Non-IT\")"
   ]
  },
  {
   "cell_type": "code",
   "execution_count": 130,
   "metadata": {
    "collapsed": false
   },
   "outputs": [
    {
     "data": {
      "text/html": [
       "<div>\n",
       "<table border=\"1\" class=\"dataframe\">\n",
       "  <thead>\n",
       "    <tr style=\"text-align: right;\">\n",
       "      <th></th>\n",
       "      <th>Name</th>\n",
       "      <th>Age</th>\n",
       "      <th>Major</th>\n",
       "      <th>Gender</th>\n",
       "      <th>Major_Type</th>\n",
       "    </tr>\n",
       "  </thead>\n",
       "  <tbody>\n",
       "    <tr>\n",
       "      <th>0</th>\n",
       "      <td>Lauren</td>\n",
       "      <td>21</td>\n",
       "      <td>Finance</td>\n",
       "      <td>Female</td>\n",
       "      <td>Non-IT</td>\n",
       "    </tr>\n",
       "    <tr>\n",
       "      <th>1</th>\n",
       "      <td>Glory</td>\n",
       "      <td>20</td>\n",
       "      <td>Economics</td>\n",
       "      <td>Female</td>\n",
       "      <td>Non-IT</td>\n",
       "    </tr>\n",
       "    <tr>\n",
       "      <th>2</th>\n",
       "      <td>Mark</td>\n",
       "      <td>19</td>\n",
       "      <td>MIS</td>\n",
       "      <td>Male</td>\n",
       "      <td>IT</td>\n",
       "    </tr>\n",
       "    <tr>\n",
       "      <th>3</th>\n",
       "      <td>Katey</td>\n",
       "      <td>22</td>\n",
       "      <td>MIS</td>\n",
       "      <td>Female</td>\n",
       "      <td>IT</td>\n",
       "    </tr>\n",
       "    <tr>\n",
       "      <th>4</th>\n",
       "      <td>Tapan</td>\n",
       "      <td>22</td>\n",
       "      <td>Economics</td>\n",
       "      <td>Male</td>\n",
       "      <td>Non-IT</td>\n",
       "    </tr>\n",
       "  </tbody>\n",
       "</table>\n",
       "</div>"
      ],
      "text/plain": [
       "     Name  Age      Major  Gender Major_Type\n",
       "0  Lauren   21    Finance  Female     Non-IT\n",
       "1   Glory   20  Economics  Female     Non-IT\n",
       "2    Mark   19        MIS    Male         IT\n",
       "3   Katey   22        MIS  Female         IT\n",
       "4   Tapan   22  Economics    Male     Non-IT"
      ]
     },
     "execution_count": 130,
     "metadata": {},
     "output_type": "execute_result"
    }
   ],
   "source": [
    "df"
   ]
  },
  {
   "cell_type": "markdown",
   "metadata": {},
   "source": [
    "### Creating Column based SQL-like Conditions (Using AND & OR)"
   ]
  },
  {
   "cell_type": "code",
   "execution_count": 131,
   "metadata": {
    "collapsed": false
   },
   "outputs": [],
   "source": [
    "# For a single-condition, you can do this.\n",
    "df['Tuition_Discount'] = np.where(((df['Major_Type'] =='IT')&(df['Gender'] == 'Female')),30,25)"
   ]
  },
  {
   "cell_type": "code",
   "execution_count": 161,
   "metadata": {
    "collapsed": false
   },
   "outputs": [],
   "source": [
    "# For multiple conditions\n",
    "def categorize_tuition(row):\n",
    "    if ((row['Major_Type'] =='IT')&(row['Gender'] == 'Female')):\n",
    "        return 30\n",
    "    if ((row['Major_Type'] =='IT')&(row['Gender'] == 'Male')):\n",
    "        return 27\n",
    "    if ((row['Major_Type'] =='Non-IT')&(row['Gender'] == 'Female')):\n",
    "        return 35\n",
    "    else:\n",
    "        return 38"
   ]
  },
  {
   "cell_type": "code",
   "execution_count": 193,
   "metadata": {
    "collapsed": false
   },
   "outputs": [],
   "source": [
    "# Using lambda functions, we can call the function, \"categorize_tuition\" passing one row at a time.\n",
    "#df['Tuition_Discount'] = df.apply(lambda row: categorize_tuition(row),axis=1)\n",
    "\n",
    "# A much simpler representation would be as follows:\n",
    "df['Tuition_Discount'] = df.apply(categorize_tuition,axis=1)\n",
    "\n",
    "# The way we do this is by calling the function on every row. This could get really slow for all\n",
    "# datasets"
   ]
  },
  {
   "cell_type": "code",
   "execution_count": 194,
   "metadata": {
    "collapsed": false
   },
   "outputs": [
    {
     "data": {
      "text/html": [
       "<div>\n",
       "<table border=\"1\" class=\"dataframe\">\n",
       "  <thead>\n",
       "    <tr style=\"text-align: right;\">\n",
       "      <th></th>\n",
       "      <th>Name</th>\n",
       "      <th>Age</th>\n",
       "      <th>Major</th>\n",
       "      <th>Gender</th>\n",
       "      <th>Major_Type</th>\n",
       "      <th>Tuition_Discount</th>\n",
       "      <th>Age_group</th>\n",
       "    </tr>\n",
       "  </thead>\n",
       "  <tbody>\n",
       "    <tr>\n",
       "      <th>0</th>\n",
       "      <td>Lauren</td>\n",
       "      <td>21</td>\n",
       "      <td>Finance</td>\n",
       "      <td>Female</td>\n",
       "      <td>Non-IT</td>\n",
       "      <td>35</td>\n",
       "      <td>Adults</td>\n",
       "    </tr>\n",
       "    <tr>\n",
       "      <th>1</th>\n",
       "      <td>Glory</td>\n",
       "      <td>20</td>\n",
       "      <td>Economics</td>\n",
       "      <td>Female</td>\n",
       "      <td>Non-IT</td>\n",
       "      <td>35</td>\n",
       "      <td>Grown Ups</td>\n",
       "    </tr>\n",
       "    <tr>\n",
       "      <th>2</th>\n",
       "      <td>Mark</td>\n",
       "      <td>19</td>\n",
       "      <td>MIS</td>\n",
       "      <td>Male</td>\n",
       "      <td>IT</td>\n",
       "      <td>27</td>\n",
       "      <td>Teens</td>\n",
       "    </tr>\n",
       "    <tr>\n",
       "      <th>3</th>\n",
       "      <td>Katey</td>\n",
       "      <td>22</td>\n",
       "      <td>MIS</td>\n",
       "      <td>Female</td>\n",
       "      <td>IT</td>\n",
       "      <td>30</td>\n",
       "      <td>Adults</td>\n",
       "    </tr>\n",
       "    <tr>\n",
       "      <th>4</th>\n",
       "      <td>Tapan</td>\n",
       "      <td>22</td>\n",
       "      <td>Economics</td>\n",
       "      <td>Male</td>\n",
       "      <td>Non-IT</td>\n",
       "      <td>38</td>\n",
       "      <td>Adults</td>\n",
       "    </tr>\n",
       "  </tbody>\n",
       "</table>\n",
       "</div>"
      ],
      "text/plain": [
       "     Name  Age      Major  Gender Major_Type  Tuition_Discount  Age_group\n",
       "0  Lauren   21    Finance  Female     Non-IT                35     Adults\n",
       "1   Glory   20  Economics  Female     Non-IT                35  Grown Ups\n",
       "2    Mark   19        MIS    Male         IT                27      Teens\n",
       "3   Katey   22        MIS  Female         IT                30     Adults\n",
       "4   Tapan   22  Economics    Male     Non-IT                38     Adults"
      ]
     },
     "execution_count": 194,
     "metadata": {},
     "output_type": "execute_result"
    }
   ],
   "source": [
    "df"
   ]
  },
  {
   "cell_type": "code",
   "execution_count": 195,
   "metadata": {
    "collapsed": false
   },
   "outputs": [],
   "source": [
    "# Lets create a nested np.where expression which is not very readable but gets the job done.\n",
    "df['Age_group'] = np.where(df.Age<20, 'Teens',\n",
    "                           np.where(df.Age>20,'Adults', 'Grown Ups'))"
   ]
  },
  {
   "cell_type": "code",
   "execution_count": 196,
   "metadata": {
    "collapsed": false
   },
   "outputs": [
    {
     "data": {
      "text/html": [
       "<div>\n",
       "<table border=\"1\" class=\"dataframe\">\n",
       "  <thead>\n",
       "    <tr style=\"text-align: right;\">\n",
       "      <th></th>\n",
       "      <th>Name</th>\n",
       "      <th>Age</th>\n",
       "      <th>Major</th>\n",
       "      <th>Gender</th>\n",
       "      <th>Major_Type</th>\n",
       "      <th>Tuition_Discount</th>\n",
       "      <th>Age_group</th>\n",
       "    </tr>\n",
       "  </thead>\n",
       "  <tbody>\n",
       "    <tr>\n",
       "      <th>0</th>\n",
       "      <td>Lauren</td>\n",
       "      <td>21</td>\n",
       "      <td>Finance</td>\n",
       "      <td>Female</td>\n",
       "      <td>Non-IT</td>\n",
       "      <td>35</td>\n",
       "      <td>Adults</td>\n",
       "    </tr>\n",
       "    <tr>\n",
       "      <th>1</th>\n",
       "      <td>Glory</td>\n",
       "      <td>20</td>\n",
       "      <td>Economics</td>\n",
       "      <td>Female</td>\n",
       "      <td>Non-IT</td>\n",
       "      <td>35</td>\n",
       "      <td>Grown Ups</td>\n",
       "    </tr>\n",
       "    <tr>\n",
       "      <th>2</th>\n",
       "      <td>Mark</td>\n",
       "      <td>19</td>\n",
       "      <td>MIS</td>\n",
       "      <td>Male</td>\n",
       "      <td>IT</td>\n",
       "      <td>27</td>\n",
       "      <td>Teens</td>\n",
       "    </tr>\n",
       "    <tr>\n",
       "      <th>3</th>\n",
       "      <td>Katey</td>\n",
       "      <td>22</td>\n",
       "      <td>MIS</td>\n",
       "      <td>Female</td>\n",
       "      <td>IT</td>\n",
       "      <td>30</td>\n",
       "      <td>Adults</td>\n",
       "    </tr>\n",
       "    <tr>\n",
       "      <th>4</th>\n",
       "      <td>Tapan</td>\n",
       "      <td>22</td>\n",
       "      <td>Economics</td>\n",
       "      <td>Male</td>\n",
       "      <td>Non-IT</td>\n",
       "      <td>38</td>\n",
       "      <td>Adults</td>\n",
       "    </tr>\n",
       "  </tbody>\n",
       "</table>\n",
       "</div>"
      ],
      "text/plain": [
       "     Name  Age      Major  Gender Major_Type  Tuition_Discount  Age_group\n",
       "0  Lauren   21    Finance  Female     Non-IT                35     Adults\n",
       "1   Glory   20  Economics  Female     Non-IT                35  Grown Ups\n",
       "2    Mark   19        MIS    Male         IT                27      Teens\n",
       "3   Katey   22        MIS  Female         IT                30     Adults\n",
       "4   Tapan   22  Economics    Male     Non-IT                38     Adults"
      ]
     },
     "execution_count": 196,
     "metadata": {},
     "output_type": "execute_result"
    }
   ],
   "source": [
    "df"
   ]
  },
  {
   "cell_type": "markdown",
   "metadata": {},
   "source": [
    "#### The key argument (not to be confused with the dictionary's keys) for sorted allows us to define specific functions to use when sorting the items, as an iterator (in our dict object)."
   ]
  },
  {
   "cell_type": "code",
   "execution_count": null,
   "metadata": {
    "collapsed": true
   },
   "outputs": [],
   "source": []
  }
 ],
 "metadata": {
  "anaconda-cloud": {},
  "kernelspec": {
   "display_name": "Python [conda env:data]",
   "language": "python",
   "name": "conda-env-data-py"
  },
  "language_info": {
   "codemirror_mode": {
    "name": "ipython",
    "version": 3
   },
   "file_extension": ".py",
   "mimetype": "text/x-python",
   "name": "python",
   "nbconvert_exporter": "python",
   "pygments_lexer": "ipython3",
   "version": "3.5.2"
  }
 },
 "nbformat": 4,
 "nbformat_minor": 1
}
